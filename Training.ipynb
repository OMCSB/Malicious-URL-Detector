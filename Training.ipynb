{
 "cells": [
  {
   "cell_type": "markdown",
   "id": "76401151-02b8-4f82-807e-fba50bdf3153",
   "metadata": {},
   "source": [
    "# Import the neccessary libraries"
   ]
  },
  {
   "cell_type": "code",
   "execution_count": 18,
   "id": "ce4d72b1-b736-48e4-bec8-0d346c14d97b",
   "metadata": {
    "scrolled": true
   },
   "outputs": [],
   "source": [
    "import spacy\n",
    "import pandas as pd\n",
    "import numpy as np\n",
    "import tensorflow as tf\n",
    "from collections import Counter\n",
    "import multiprocessing\n",
    "from gensim.models import Word2Vec\n",
    "import seaborn as sns\n",
    "\n",
    "# Import tensorflow module\n",
    "from tensorflow.keras.preprocessing.text import Tokenizer\n",
    "from tensorflow.keras.preprocessing.sequence import pad_sequences\n",
    "from tensorflow.keras.models import Sequential\n",
    "from tensorflow.keras.layers import Embedding, LSTM, Dense, Dropout, Flatten\n",
    "from tensorflow.keras.optimizers.legacy import Adam\n",
    "\n",
    "# Import sklearn module\n",
    "from sklearn.model_selection import train_test_split\n",
    "from sklearn.metrics import accuracy_score, precision_score, recall_score, f1_score, roc_auc_score, confusion_matrix\n",
    "from sklearn.cluster import KMeans\n",
    "from sklearn.preprocessing import MinMaxScaler\n",
    "\n",
    "import matplotlib.pyplot as plt\n",
    "\n",
    "import data_preprocessing\n",
    "import url_loader"
   ]
  },
  {
   "cell_type": "code",
   "execution_count": 2,
   "id": "de31c9f7",
   "metadata": {},
   "outputs": [
    {
     "name": "stdout",
     "output_type": "stream",
     "text": [
      "1 Physical GPUs, 1 Logical GPU\n"
     ]
    }
   ],
   "source": [
    "gpus = tf.config.list_physical_devices('GPU')\n",
    "if gpus:\n",
    "  # Restrict TensorFlow to only use the first GPU\n",
    "  try:\n",
    "    tf.config.set_visible_devices(gpus[0], 'GPU')\n",
    "    logical_gpus = tf.config.list_logical_devices('GPU')\n",
    "    print(len(gpus), \"Physical GPUs,\", len(logical_gpus), \"Logical GPU\")\n",
    "  except RuntimeError as e:\n",
    "    # Visible devices must be set before GPUs have been initialized\n",
    "    print(e)"
   ]
  },
  {
   "cell_type": "markdown",
   "id": "f60a1e7f-f916-4f8c-9a1d-ef4e175d0001",
   "metadata": {},
   "source": [
    "# Data Processing\n",
    "\n",
    "## Run to remove duplicates\n",
    "~~df = data_preprocessing.remove_duplicate(newDfName)~~\n",
    "\n",
    "\"if you omit the duplicates, that will skew the base rate of each distinct object. If the training data are a representative sample of the real world, then you don't want that, because you will actually be training for a slightly different world (one with different base rates).\""
   ]
  },
  {
   "cell_type": "code",
   "execution_count": 3,
   "id": "addf6ad8-0fa9-485f-8e10-a00968dff499",
   "metadata": {},
   "outputs": [
    {
     "name": "stdout",
     "output_type": "stream",
     "text": [
      "632508\n"
     ]
    },
    {
     "data": {
      "text/plain": [
       "'DataFrame Shape (632508, 3)'"
      ]
     },
     "metadata": {},
     "output_type": "display_data"
    }
   ],
   "source": [
    "#Print the number of rows in the dataset\n",
    "df = pd.read_csv('./data/balanced_urls.csv')\n",
    "\n",
    "row_count = df.shape[0]\n",
    "print(row_count)\n",
    "display('DataFrame Shape {}'.format(df.shape))\n",
    "\n",
    "# LSTM \n",
    "df_lstm = df.copy()\n",
    "\n",
    "# K-Means Clustering\n",
    "df_kmeans = df.copy()"
   ]
  },
  {
   "cell_type": "markdown",
   "id": "505e37b0-4bf9-4dc9-a992-18883005d845",
   "metadata": {},
   "source": [
    "## Dataframe info"
   ]
  },
  {
   "cell_type": "code",
   "execution_count": 4,
   "id": "b1e18723-2d36-45da-b61a-059f3f3e39f1",
   "metadata": {},
   "outputs": [
    {
     "name": "stdout",
     "output_type": "stream",
     "text": [
      "<class 'pandas.core.frame.DataFrame'>\n",
      "RangeIndex: 632508 entries, 0 to 632507\n",
      "Data columns (total 3 columns):\n",
      " #   Column  Non-Null Count   Dtype \n",
      "---  ------  --------------   ----- \n",
      " 0   url     632508 non-null  object\n",
      " 1   label   632508 non-null  object\n",
      " 2   result  632508 non-null  int64 \n",
      "dtypes: int64(1), object(2)\n",
      "memory usage: 14.5+ MB\n"
     ]
    }
   ],
   "source": [
    "df.info()"
   ]
  },
  {
   "cell_type": "markdown",
   "id": "98f06ec2-c144-45b3-993c-e5526558264f",
   "metadata": {},
   "source": [
    "## Check for NaN Values"
   ]
  },
  {
   "cell_type": "code",
   "execution_count": 5,
   "id": "efbff681-a851-4b28-8221-5d0c5a2c0069",
   "metadata": {},
   "outputs": [
    {
     "data": {
      "text/plain": [
       "url       0\n",
       "label     0\n",
       "result    0\n",
       "dtype: int64"
      ]
     },
     "execution_count": 5,
     "metadata": {},
     "output_type": "execute_result"
    }
   ],
   "source": [
    "df.isnull().sum()"
   ]
  },
  {
   "cell_type": "markdown",
   "id": "c967f5d7-dcf7-4ec8-9936-ad969ba99741",
   "metadata": {},
   "source": [
    "## Count unique data in 'label' column"
   ]
  },
  {
   "cell_type": "code",
   "execution_count": 6,
   "id": "e75855ff-30d7-4775-8815-74e2419b5dc8",
   "metadata": {},
   "outputs": [
    {
     "data": {
      "text/plain": [
       "label\n",
       "benign       316254\n",
       "malicious    316254\n",
       "Name: count, dtype: int64"
      ]
     },
     "execution_count": 6,
     "metadata": {},
     "output_type": "execute_result"
    }
   ],
   "source": [
    "df.label.value_counts()"
   ]
  },
  {
   "cell_type": "markdown",
   "id": "7fde55c3",
   "metadata": {},
   "source": [
    "# K-Means Clustering Model Preparation"
   ]
  },
  {
   "cell_type": "code",
   "execution_count": 7,
   "id": "635f962e",
   "metadata": {},
   "outputs": [
    {
     "data": {
      "text/html": [
       "<div>\n",
       "<style scoped>\n",
       "    .dataframe tbody tr th:only-of-type {\n",
       "        vertical-align: middle;\n",
       "    }\n",
       "\n",
       "    .dataframe tbody tr th {\n",
       "        vertical-align: top;\n",
       "    }\n",
       "\n",
       "    .dataframe thead th {\n",
       "        text-align: right;\n",
       "    }\n",
       "</style>\n",
       "<table border=\"1\" class=\"dataframe\">\n",
       "  <thead>\n",
       "    <tr style=\"text-align: right;\">\n",
       "      <th></th>\n",
       "      <th>url</th>\n",
       "      <th>label</th>\n",
       "      <th>result</th>\n",
       "      <th>url_length</th>\n",
       "      <th>digits_in_url</th>\n",
       "      <th>non_numerical_in_url</th>\n",
       "      <th>domain_name</th>\n",
       "    </tr>\n",
       "  </thead>\n",
       "  <tbody>\n",
       "    <tr>\n",
       "      <th>0</th>\n",
       "      <td>https://www.google.com</td>\n",
       "      <td>benign</td>\n",
       "      <td>0</td>\n",
       "      <td>22</td>\n",
       "      <td>0</td>\n",
       "      <td>5</td>\n",
       "      <td>www.google.com</td>\n",
       "    </tr>\n",
       "    <tr>\n",
       "      <th>1</th>\n",
       "      <td>https://www.youtube.com</td>\n",
       "      <td>benign</td>\n",
       "      <td>0</td>\n",
       "      <td>23</td>\n",
       "      <td>0</td>\n",
       "      <td>5</td>\n",
       "      <td>www.youtube.com</td>\n",
       "    </tr>\n",
       "    <tr>\n",
       "      <th>2</th>\n",
       "      <td>https://www.facebook.com</td>\n",
       "      <td>benign</td>\n",
       "      <td>0</td>\n",
       "      <td>24</td>\n",
       "      <td>0</td>\n",
       "      <td>5</td>\n",
       "      <td>www.facebook.com</td>\n",
       "    </tr>\n",
       "    <tr>\n",
       "      <th>3</th>\n",
       "      <td>https://www.baidu.com</td>\n",
       "      <td>benign</td>\n",
       "      <td>0</td>\n",
       "      <td>21</td>\n",
       "      <td>0</td>\n",
       "      <td>5</td>\n",
       "      <td>www.baidu.com</td>\n",
       "    </tr>\n",
       "    <tr>\n",
       "      <th>4</th>\n",
       "      <td>https://www.wikipedia.org</td>\n",
       "      <td>benign</td>\n",
       "      <td>0</td>\n",
       "      <td>25</td>\n",
       "      <td>0</td>\n",
       "      <td>5</td>\n",
       "      <td>www.wikipedia.org</td>\n",
       "    </tr>\n",
       "  </tbody>\n",
       "</table>\n",
       "</div>"
      ],
      "text/plain": [
       "                         url   label  result  url_length  digits_in_url  \\\n",
       "0     https://www.google.com  benign       0          22              0   \n",
       "1    https://www.youtube.com  benign       0          23              0   \n",
       "2   https://www.facebook.com  benign       0          24              0   \n",
       "3      https://www.baidu.com  benign       0          21              0   \n",
       "4  https://www.wikipedia.org  benign       0          25              0   \n",
       "\n",
       "   non_numerical_in_url        domain_name  \n",
       "0                     5     www.google.com  \n",
       "1                     5    www.youtube.com  \n",
       "2                     5   www.facebook.com  \n",
       "3                     5      www.baidu.com  \n",
       "4                     5  www.wikipedia.org  "
      ]
     },
     "execution_count": 7,
     "metadata": {},
     "output_type": "execute_result"
    }
   ],
   "source": [
    "df_kmeans['url_length'] = df_kmeans['url'].apply(lambda x: len(str(x))) # Get Length of URL\n",
    "df_kmeans['digits_in_url'] = df_kmeans['url'].apply(lambda x: url_loader.count_digits(x)) # Get Number of Digits in URL\n",
    "df_kmeans['non_numerical_in_url'] = df_kmeans['url'].apply(lambda x: url_loader.count_nonDigitsAlpahbet(x)) # Get Number of Non-Numeric in URL\n",
    "df_kmeans['domain_name'] = df_kmeans['url'].apply(lambda x: url_loader.get_domain_name(x)) # Get Domain Name of URL\n",
    "\n",
    "df_kmeans.head()"
   ]
  },
  {
   "cell_type": "code",
   "execution_count": 8,
   "id": "92a684e2",
   "metadata": {},
   "outputs": [],
   "source": [
    "X_kmeans = df_kmeans\n",
    "y_kmeans = df_kmeans['result']\n",
    "\n",
    "X_kmeans_train, X_kmeans_test, y_kmeans_train, y_kmeans_test=train_test_split(X_kmeans,y_kmeans, test_size=0.1, random_state=21)"
   ]
  },
  {
   "cell_type": "code",
   "execution_count": 9,
   "id": "9ae53fbf",
   "metadata": {},
   "outputs": [],
   "source": [
    "X_kmeans_train_new = pd.DataFrame()\n",
    "X_kmeans_train_new['url_length'] = X_kmeans_train['url_length']\n",
    "X_kmeans_train_new['non_numerical_alphabetical_in_url'] = X_kmeans_train['non_numerical_in_url']\n",
    "X_kmeans_train_new['digits_in_url'] = X_kmeans_train['digits_in_url']\n",
    "X_kmeans_train_new['results'] = X_kmeans_train['result']"
   ]
  },
  {
   "cell_type": "markdown",
   "id": "01a5e30c",
   "metadata": {},
   "source": [
    "## Check for missing values\n",
    "``"
   ]
  },
  {
   "cell_type": "code",
   "execution_count": 10,
   "id": "2bd69668",
   "metadata": {},
   "outputs": [
    {
     "data": {
      "text/html": [
       "<div>\n",
       "<style scoped>\n",
       "    .dataframe tbody tr th:only-of-type {\n",
       "        vertical-align: middle;\n",
       "    }\n",
       "\n",
       "    .dataframe tbody tr th {\n",
       "        vertical-align: top;\n",
       "    }\n",
       "\n",
       "    .dataframe thead th {\n",
       "        text-align: right;\n",
       "    }\n",
       "</style>\n",
       "<table border=\"1\" class=\"dataframe\">\n",
       "  <thead>\n",
       "    <tr style=\"text-align: right;\">\n",
       "      <th></th>\n",
       "      <th>url_length</th>\n",
       "      <th>non_numerical_alphabetical_in_url</th>\n",
       "      <th>digits_in_url</th>\n",
       "      <th>results</th>\n",
       "    </tr>\n",
       "  </thead>\n",
       "  <tbody>\n",
       "  </tbody>\n",
       "</table>\n",
       "</div>"
      ],
      "text/plain": [
       "Empty DataFrame\n",
       "Columns: [url_length, non_numerical_alphabetical_in_url, digits_in_url, results]\n",
       "Index: []"
      ]
     },
     "execution_count": 10,
     "metadata": {},
     "output_type": "execute_result"
    }
   ],
   "source": [
    "X_kmeans_train_new.isna().sum()\n",
    "missing_cols, missing_rows = (\n",
    "    (X_kmeans_train_new.isnull().sum(x) | X_kmeans_train_new.eq('').sum(x))\n",
    "    .loc[lambda x: x.gt(0)].index\n",
    "    for x in (0, 1)\n",
    ")\n",
    "X_kmeans_train_new.loc[missing_rows]"
   ]
  },
  {
   "cell_type": "markdown",
   "id": "fa8af00c",
   "metadata": {},
   "source": [
    "# K-Means Clustering Preparation"
   ]
  },
  {
   "cell_type": "code",
   "execution_count": 11,
   "id": "4e1dd462",
   "metadata": {},
   "outputs": [
    {
     "data": {
      "text/plain": [
       "array([[0.0177259 , 0.04624277, 0.00271003],\n",
       "       [0.0077821 , 0.03468208, 0.        ],\n",
       "       [0.02377864, 0.05202312, 0.        ],\n",
       "       ...,\n",
       "       [0.04539559, 0.10404624, 0.01897019],\n",
       "       [0.04712495, 0.13294798, 0.01084011],\n",
       "       [0.01124081, 0.02312139, 0.00542005]])"
      ]
     },
     "metadata": {},
     "output_type": "display_data"
    }
   ],
   "source": [
    "X_kmeans = X_kmeans_train_new\n",
    "X_kmeans = X_kmeans.drop('results', axis=1)\n",
    "X_kmeans = MinMaxScaler().fit_transform(X_kmeans)\n",
    "display(X_kmeans)\n",
    "y_kmeans = X_kmeans_train_new['results']"
   ]
  },
  {
   "cell_type": "code",
   "execution_count": 28,
   "id": "47487bfc",
   "metadata": {},
   "outputs": [
    {
     "data": {
      "text/plain": [
       "array([0, 0, 0, ..., 1, 1, 0])"
      ]
     },
     "execution_count": 28,
     "metadata": {},
     "output_type": "execute_result"
    }
   ],
   "source": [
    "kmeans = KMeans(n_clusters=2,init='k-means++',max_iter=300,n_init=10,random_state=42)\n",
    "kmeans.fit(X_kmeans)\n",
    "kmeans.labels_"
   ]
  },
  {
   "cell_type": "code",
   "execution_count": 29,
   "id": "02456006",
   "metadata": {},
   "outputs": [
    {
     "name": "stdout",
     "output_type": "stream",
     "text": [
      "Result: 315770 out of 569257 samples were correctly labeled.\n",
      "Accuracy score: 0.55\n"
     ]
    }
   ],
   "source": [
    "correct_labels = sum(y_kmeans == kmeans.labels_)\n",
    "\n",
    "print(\"Result: %d out of %d samples were correctly labeled.\" % (correct_labels, y_kmeans.size))\n",
    "\n",
    "print('Accuracy score: {0:0.2f}'. format(correct_labels/float(y_kmeans.size)))"
   ]
  },
  {
   "cell_type": "code",
   "execution_count": 19,
   "id": "debcfeda",
   "metadata": {},
   "outputs": [
    {
     "data": {
      "image/png": "[encoded data removed]",
      "text/plain": [
       "<Figure size 640x480 with 1 Axes>"
      ]
     },
     "metadata": {},
     "output_type": "display_data"
    }
   ],
   "source": [
    "cs = []\n",
    "for i in range(1, 11):\n",
    "    kmeans = KMeans(n_clusters = i, init = 'k-means++', max_iter = 300, n_init = 10, random_state = 0)\n",
    "    kmeans.fit(X_kmeans)\n",
    "    cs.append(kmeans.inertia_)\n",
    "plt.plot(range(1, 11), cs)\n",
    "plt.title('The Elbow Method')\n",
    "plt.xlabel('Number of clusters')\n",
    "plt.ylabel('CS')\n",
    "plt.show()"
   ]
  },
  {
   "cell_type": "code",
   "execution_count": 31,
   "id": "63d474b2",
   "metadata": {},
   "outputs": [
    {
     "ename": "KeyError",
     "evalue": "\"['url'] not found in axis\"",
     "output_type": "error",
     "traceback": [
      "\u001b[1;31m---------------------------------------------------------------------------\u001b[0m",
      "\u001b[1;31mKeyError\u001b[0m                                  Traceback (most recent call last)",
      "Cell \u001b[1;32mIn[31], line 1\u001b[0m\n\u001b[1;32m----> 1\u001b[0m X_kmeans_test \u001b[38;5;241m=\u001b[39m \u001b[43mX_kmeans_test\u001b[49m\u001b[38;5;241;43m.\u001b[39;49m\u001b[43mdrop\u001b[49m\u001b[43m(\u001b[49m\u001b[38;5;124;43m'\u001b[39;49m\u001b[38;5;124;43murl\u001b[39;49m\u001b[38;5;124;43m'\u001b[39;49m\u001b[43m,\u001b[49m\u001b[43m \u001b[49m\u001b[43maxis\u001b[49m\u001b[38;5;241;43m=\u001b[39;49m\u001b[38;5;241;43m1\u001b[39;49m\u001b[43m)\u001b[49m\n\u001b[0;32m      2\u001b[0m X_kmeans_test \u001b[38;5;241m=\u001b[39m X_kmeans_test\u001b[38;5;241m.\u001b[39mdrop(\u001b[38;5;124m'\u001b[39m\u001b[38;5;124mlabel\u001b[39m\u001b[38;5;124m'\u001b[39m, axis\u001b[38;5;241m=\u001b[39m\u001b[38;5;241m1\u001b[39m)\n\u001b[0;32m      3\u001b[0m X_kmeans_test \u001b[38;5;241m=\u001b[39m X_kmeans_test\u001b[38;5;241m.\u001b[39mdrop(\u001b[38;5;124m'\u001b[39m\u001b[38;5;124mresult\u001b[39m\u001b[38;5;124m'\u001b[39m, axis\u001b[38;5;241m=\u001b[39m\u001b[38;5;241m1\u001b[39m)\n",
      "File \u001b[1;32mc:\\Users\\garet\\anaconda3\\envs\\tf\\lib\\site-packages\\pandas\\core\\frame.py:5581\u001b[0m, in \u001b[0;36mDataFrame.drop\u001b[1;34m(self, labels, axis, index, columns, level, inplace, errors)\u001b[0m\n\u001b[0;32m   5433\u001b[0m \u001b[38;5;28;01mdef\u001b[39;00m \u001b[38;5;21mdrop\u001b[39m(\n\u001b[0;32m   5434\u001b[0m     \u001b[38;5;28mself\u001b[39m,\n\u001b[0;32m   5435\u001b[0m     labels: IndexLabel \u001b[38;5;241m|\u001b[39m \u001b[38;5;28;01mNone\u001b[39;00m \u001b[38;5;241m=\u001b[39m \u001b[38;5;28;01mNone\u001b[39;00m,\n\u001b[1;32m   (...)\u001b[0m\n\u001b[0;32m   5442\u001b[0m     errors: IgnoreRaise \u001b[38;5;241m=\u001b[39m \u001b[38;5;124m\"\u001b[39m\u001b[38;5;124mraise\u001b[39m\u001b[38;5;124m\"\u001b[39m,\n\u001b[0;32m   5443\u001b[0m ) \u001b[38;5;241m-\u001b[39m\u001b[38;5;241m>\u001b[39m DataFrame \u001b[38;5;241m|\u001b[39m \u001b[38;5;28;01mNone\u001b[39;00m:\n\u001b[0;32m   5444\u001b[0m \u001b[38;5;250m    \u001b[39m\u001b[38;5;124;03m\"\"\"\u001b[39;00m\n\u001b[0;32m   5445\u001b[0m \u001b[38;5;124;03m    Drop specified labels from rows or columns.\u001b[39;00m\n\u001b[0;32m   5446\u001b[0m \n\u001b[1;32m   (...)\u001b[0m\n\u001b[0;32m   5579\u001b[0m \u001b[38;5;124;03m            weight  1.0     0.8\u001b[39;00m\n\u001b[0;32m   5580\u001b[0m \u001b[38;5;124;03m    \"\"\"\u001b[39;00m\n\u001b[1;32m-> 5581\u001b[0m     \u001b[38;5;28;01mreturn\u001b[39;00m \u001b[38;5;28;43msuper\u001b[39;49m\u001b[43m(\u001b[49m\u001b[43m)\u001b[49m\u001b[38;5;241;43m.\u001b[39;49m\u001b[43mdrop\u001b[49m\u001b[43m(\u001b[49m\n\u001b[0;32m   5582\u001b[0m \u001b[43m        \u001b[49m\u001b[43mlabels\u001b[49m\u001b[38;5;241;43m=\u001b[39;49m\u001b[43mlabels\u001b[49m\u001b[43m,\u001b[49m\n\u001b[0;32m   5583\u001b[0m \u001b[43m        \u001b[49m\u001b[43maxis\u001b[49m\u001b[38;5;241;43m=\u001b[39;49m\u001b[43maxis\u001b[49m\u001b[43m,\u001b[49m\n\u001b[0;32m   5584\u001b[0m \u001b[43m        \u001b[49m\u001b[43mindex\u001b[49m\u001b[38;5;241;43m=\u001b[39;49m\u001b[43mindex\u001b[49m\u001b[43m,\u001b[49m\n\u001b[0;32m   5585\u001b[0m \u001b[43m        \u001b[49m\u001b[43mcolumns\u001b[49m\u001b[38;5;241;43m=\u001b[39;49m\u001b[43mcolumns\u001b[49m\u001b[43m,\u001b[49m\n\u001b[0;32m   5586\u001b[0m \u001b[43m        \u001b[49m\u001b[43mlevel\u001b[49m\u001b[38;5;241;43m=\u001b[39;49m\u001b[43mlevel\u001b[49m\u001b[43m,\u001b[49m\n\u001b[0;32m   5587\u001b[0m \u001b[43m        \u001b[49m\u001b[43minplace\u001b[49m\u001b[38;5;241;43m=\u001b[39;49m\u001b[43minplace\u001b[49m\u001b[43m,\u001b[49m\n\u001b[0;32m   5588\u001b[0m \u001b[43m        \u001b[49m\u001b[43merrors\u001b[49m\u001b[38;5;241;43m=\u001b[39;49m\u001b[43merrors\u001b[49m\u001b[43m,\u001b[49m\n\u001b[0;32m   5589\u001b[0m \u001b[43m    \u001b[49m\u001b[43m)\u001b[49m\n",
      "File \u001b[1;32mc:\\Users\\garet\\anaconda3\\envs\\tf\\lib\\site-packages\\pandas\\core\\generic.py:4788\u001b[0m, in \u001b[0;36mNDFrame.drop\u001b[1;34m(self, labels, axis, index, columns, level, inplace, errors)\u001b[0m\n\u001b[0;32m   4786\u001b[0m \u001b[38;5;28;01mfor\u001b[39;00m axis, labels \u001b[38;5;129;01min\u001b[39;00m axes\u001b[38;5;241m.\u001b[39mitems():\n\u001b[0;32m   4787\u001b[0m     \u001b[38;5;28;01mif\u001b[39;00m labels \u001b[38;5;129;01mis\u001b[39;00m \u001b[38;5;129;01mnot\u001b[39;00m \u001b[38;5;28;01mNone\u001b[39;00m:\n\u001b[1;32m-> 4788\u001b[0m         obj \u001b[38;5;241m=\u001b[39m \u001b[43mobj\u001b[49m\u001b[38;5;241;43m.\u001b[39;49m\u001b[43m_drop_axis\u001b[49m\u001b[43m(\u001b[49m\u001b[43mlabels\u001b[49m\u001b[43m,\u001b[49m\u001b[43m \u001b[49m\u001b[43maxis\u001b[49m\u001b[43m,\u001b[49m\u001b[43m \u001b[49m\u001b[43mlevel\u001b[49m\u001b[38;5;241;43m=\u001b[39;49m\u001b[43mlevel\u001b[49m\u001b[43m,\u001b[49m\u001b[43m \u001b[49m\u001b[43merrors\u001b[49m\u001b[38;5;241;43m=\u001b[39;49m\u001b[43merrors\u001b[49m\u001b[43m)\u001b[49m\n\u001b[0;32m   4790\u001b[0m \u001b[38;5;28;01mif\u001b[39;00m inplace:\n\u001b[0;32m   4791\u001b[0m     \u001b[38;5;28mself\u001b[39m\u001b[38;5;241m.\u001b[39m_update_inplace(obj)\n",
      "File \u001b[1;32mc:\\Users\\garet\\anaconda3\\envs\\tf\\lib\\site-packages\\pandas\\core\\generic.py:4830\u001b[0m, in \u001b[0;36mNDFrame._drop_axis\u001b[1;34m(self, labels, axis, level, errors, only_slice)\u001b[0m\n\u001b[0;32m   4828\u001b[0m         new_axis \u001b[38;5;241m=\u001b[39m axis\u001b[38;5;241m.\u001b[39mdrop(labels, level\u001b[38;5;241m=\u001b[39mlevel, errors\u001b[38;5;241m=\u001b[39merrors)\n\u001b[0;32m   4829\u001b[0m     \u001b[38;5;28;01melse\u001b[39;00m:\n\u001b[1;32m-> 4830\u001b[0m         new_axis \u001b[38;5;241m=\u001b[39m \u001b[43maxis\u001b[49m\u001b[38;5;241;43m.\u001b[39;49m\u001b[43mdrop\u001b[49m\u001b[43m(\u001b[49m\u001b[43mlabels\u001b[49m\u001b[43m,\u001b[49m\u001b[43m \u001b[49m\u001b[43merrors\u001b[49m\u001b[38;5;241;43m=\u001b[39;49m\u001b[43merrors\u001b[49m\u001b[43m)\u001b[49m\n\u001b[0;32m   4831\u001b[0m     indexer \u001b[38;5;241m=\u001b[39m axis\u001b[38;5;241m.\u001b[39mget_indexer(new_axis)\n\u001b[0;32m   4833\u001b[0m \u001b[38;5;66;03m# Case for non-unique axis\u001b[39;00m\n\u001b[0;32m   4834\u001b[0m \u001b[38;5;28;01melse\u001b[39;00m:\n",
      "File \u001b[1;32mc:\\Users\\garet\\anaconda3\\envs\\tf\\lib\\site-packages\\pandas\\core\\indexes\\base.py:7070\u001b[0m, in \u001b[0;36mIndex.drop\u001b[1;34m(self, labels, errors)\u001b[0m\n\u001b[0;32m   7068\u001b[0m \u001b[38;5;28;01mif\u001b[39;00m mask\u001b[38;5;241m.\u001b[39many():\n\u001b[0;32m   7069\u001b[0m     \u001b[38;5;28;01mif\u001b[39;00m errors \u001b[38;5;241m!=\u001b[39m \u001b[38;5;124m\"\u001b[39m\u001b[38;5;124mignore\u001b[39m\u001b[38;5;124m\"\u001b[39m:\n\u001b[1;32m-> 7070\u001b[0m         \u001b[38;5;28;01mraise\u001b[39;00m \u001b[38;5;167;01mKeyError\u001b[39;00m(\u001b[38;5;124mf\u001b[39m\u001b[38;5;124m\"\u001b[39m\u001b[38;5;132;01m{\u001b[39;00mlabels[mask]\u001b[38;5;241m.\u001b[39mtolist()\u001b[38;5;132;01m}\u001b[39;00m\u001b[38;5;124m not found in axis\u001b[39m\u001b[38;5;124m\"\u001b[39m)\n\u001b[0;32m   7071\u001b[0m     indexer \u001b[38;5;241m=\u001b[39m indexer[\u001b[38;5;241m~\u001b[39mmask]\n\u001b[0;32m   7072\u001b[0m \u001b[38;5;28;01mreturn\u001b[39;00m \u001b[38;5;28mself\u001b[39m\u001b[38;5;241m.\u001b[39mdelete(indexer)\n",
      "\u001b[1;31mKeyError\u001b[0m: \"['url'] not found in axis\""
     ]
    }
   ],
   "source": [
    "X_kmeans_test = X_kmeans_test.drop('url', axis=1)\n",
    "X_kmeans_test = X_kmeans_test.drop('label', axis=1)\n",
    "X_kmeans_test = X_kmeans_test.drop('result', axis=1)\n",
    "X_kmeans_test = X_kmeans_test.drop('domain_name', axis=1)\n",
    "y_kmeans_predict = kmeans.predict(X_kmeans_test)\n",
    "\n",
    "# print(y_kmeans_predict)"
   ]
  },
  {
   "cell_type": "code",
   "execution_count": 33,
   "id": "6dc8701f",
   "metadata": {},
   "outputs": [
    {
     "name": "stdout",
     "output_type": "stream",
     "text": [
      "Result: 31718 out of 63251 samples were correctly labeled.\n",
      "Accuracy score: 0.50\n"
     ]
    }
   ],
   "source": [
    "correct_labels = sum(y_kmeans_test == y_kmeans_predict)\n",
    "\n",
    "print(\"Result: %d out of %d samples were correctly labeled.\" % (correct_labels, y_kmeans_test.size))\n",
    "\n",
    "print('Accuracy score: {0:0.2f}'. format(correct_labels/float(y_kmeans_test.size)))"
   ]
  },
  {
   "cell_type": "markdown",
   "id": "7151c0d2",
   "metadata": {},
   "source": [
    "# LSTM Model Preparation"
   ]
  },
  {
   "cell_type": "markdown",
   "id": "ab948d0f",
   "metadata": {},
   "source": [
    "## Tokenizing the URL - Word2Vec                        "
   ]
  },
  {
   "cell_type": "code",
   "execution_count": null,
   "id": "2e9b09fb",
   "metadata": {},
   "outputs": [],
   "source": [
    "# Initialize list\n",
    "txt = [url_loader.tokenize_url_regex(word) for word in df_lstm['url']]\n",
    "# print(txt[:5])\n",
    "print(len(txt))\n",
    "\n",
    "# Add tokenized url to new dataset to feed to word2vec model\n",
    "df_lstm['tokenized_url'] = txt"
   ]
  },
  {
   "cell_type": "markdown",
   "id": "a7a83850",
   "metadata": {},
   "source": [
    "## Building Word2Vec Model"
   ]
  },
  {
   "cell_type": "code",
   "execution_count": null,
   "id": "b4796bfb",
   "metadata": {},
   "outputs": [],
   "source": [
    "# Get number of cores\n",
    "cores = multiprocessing.cpu_count()\n",
    "\n",
    "# Initialize Word2Vec Model\n",
    "word2vec_model = Word2Vec(\n",
    "    min_count = 2,\n",
    "    vector_size=32,\n",
    "    window=10,\n",
    "    workers=1\n",
    ")"
   ]
  },
  {
   "cell_type": "code",
   "execution_count": null,
   "id": "e7de29f8",
   "metadata": {},
   "outputs": [],
   "source": [
    "# Build the Word2Vec Vocabulary Corpus\n",
    "word2vec_model.build_vocab(txt, progress_per=10000)"
   ]
  },
  {
   "cell_type": "code",
   "execution_count": null,
   "id": "94b486dc",
   "metadata": {},
   "outputs": [],
   "source": [
    "# Train the Word2Vec Model\n",
    "word2vec_model.train(txt, total_examples=len(txt), epochs=10, report_delay=1)"
   ]
  },
  {
   "cell_type": "markdown",
   "id": "f2fd1ccf",
   "metadata": {},
   "source": [
    "## Get Vocab Size, Input Length, and Embedding Size"
   ]
  },
  {
   "cell_type": "code",
   "execution_count": null,
   "id": "1411fe22",
   "metadata": {},
   "outputs": [],
   "source": [
    "# Get Vocab Size\n",
    "vocab=word2vec_model.wv\n",
    "vocab_size=len(vocab)\n",
    "print(f\"The number of vocab: {vocab_size}\")"
   ]
  },
  {
   "cell_type": "code",
   "execution_count": null,
   "id": "00516621",
   "metadata": {},
   "outputs": [],
   "source": [
    "# Get Keys from Word2Vec Model\n",
    "vocab_keys=list(vocab.index_to_key)"
   ]
  },
  {
   "cell_type": "code",
   "execution_count": null,
   "id": "51c01ed0",
   "metadata": {},
   "outputs": [],
   "source": [
    "# Create External Dictionary to store Key-Value Pairs\n",
    "word_vec_dict={}\n",
    "for words in vocab_keys:\n",
    "    word_vec_dict[words]=vocab.get_vector(words)\n",
    "print(f\"Number of key-value pairs {len(word_vec_dict)}\")"
   ]
  },
  {
   "cell_type": "code",
   "execution_count": null,
   "id": "ee90a58a",
   "metadata": {},
   "outputs": [],
   "source": [
    "# Get Maximum Length of Tokenized URL\n",
    "maxi=-1\n",
    "for i, rev in enumerate(df_lstm['tokenized_url']):\n",
    "    if(len(rev)>maxi):\n",
    "        maxi=len(rev)\n",
    "print(maxi)"
   ]
  },
  {
   "cell_type": "code",
   "execution_count": null,
   "id": "d9382dbd",
   "metadata": {},
   "outputs": [],
   "source": [
    "# Create a Index to Word Mapping for the Tokenized URLs\n",
    "tok = Tokenizer()\n",
    "tok.fit_on_texts(df_lstm['tokenized_url'])\n",
    "vocab_size = len(tok.word_index) + 1\n",
    "encd_rev = tok.texts_to_sequences(df_lstm['tokenized_url'])"
   ]
  },
  {
   "cell_type": "code",
   "execution_count": null,
   "id": "e81892f7",
   "metadata": {},
   "outputs": [],
   "source": [
    "# Initialize Input Length and Embedding Size\n",
    "max_url_len = maxi+1 (60)\n",
    "embed_dim=32"
   ]
  },
  {
   "cell_type": "code",
   "execution_count": null,
   "id": "1655ec7e",
   "metadata": {},
   "outputs": [],
   "source": [
    "# Ensure all URL sequence has the same length which is the maximum length of the tokenized url\n",
    "pad_rev=pad_sequences(encd_rev, maxlen=max_url_len, padding=\"post\")\n",
    "pad_rev.shape"
   ]
  },
  {
   "cell_type": "code",
   "execution_count": null,
   "id": "d59fe5e4",
   "metadata": {},
   "outputs": [],
   "source": [
    "# Creating a Word Embedding Matrix to be passed onto the Embedding Layer of the Deep Learning model\n",
    "embed_matrix=np.zeros(shape=(vocab_size,embed_dim))\n",
    "for word, i in tok.word_index.items():\n",
    "    embed_vector=word_vec_dict.get(word)\n",
    "    if embed_vector is not None:\n",
    "        embed_matrix[i]=embed_vector\n",
    "# print(embed_matrix[3])"
   ]
  },
  {
   "cell_type": "markdown",
   "id": "e85810ce",
   "metadata": {},
   "source": [
    "# LSTM Model Building and Training"
   ]
  },
  {
   "cell_type": "code",
   "execution_count": null,
   "id": "1318639f",
   "metadata": {},
   "outputs": [],
   "source": [
    "# Initialize the y axis\n",
    "y_lstm = df_lstm['result']\n",
    "\n",
    "# Splitting the dataset into train and test dataset\n",
    "X_lstm_train, X_lstm_test, y_lstm_train, y_lstm_test=train_test_split(pad_rev,y_lstm, test_size=0.1, random_state=21)"
   ]
  },
  {
   "cell_type": "code",
   "execution_count": null,
   "id": "de2c0287",
   "metadata": {},
   "outputs": [],
   "source": [
    "# Initialize the LSTM MODEL\n",
    "\n",
    "from tensorflow.keras.initializers import Constant\n",
    "# Define the LSTM model\n",
    "lstm_model = Sequential()\n",
    "lstm_model.add(Embedding(input_dim=vocab_size, output_dim=embed_dim, input_length=max_url_len, embeddings_initializer=Constant(embed_matrix)))\n",
    "# lstm_model.add(Flatten())\n",
    "# lstm_model.add(Dropout(0.2))\n",
    "lstm_model.add(LSTM(32))\n",
    "lstm_model.add(Dropout(0.2))\n",
    "lstm_model.add(Dense(64, activation='relu')) \n",
    "lstm_model.add(Dense(1, activation='sigmoid'))\n",
    "\n",
    "# Compile the lstm_model\n",
    "lstm_model.compile(loss='binary_crossentropy', optimizer=Adam(), metrics=['accuracy'])\n",
    "\n",
    "# Model summary\n",
    "lstm_model.summary()"
   ]
  },
  {
   "cell_type": "code",
   "execution_count": null,
   "id": "d0872619",
   "metadata": {},
   "outputs": [],
   "source": [
    "history=lstm_model.fit(X_lstm_train, y_lstm_train, epochs=20, batch_size=64, validation_split=0.3)"
   ]
  },
  {
   "cell_type": "markdown",
   "id": "1bf025c2",
   "metadata": {},
   "source": [
    "lstm_model.save('./LSTM_Model_V2/lstmv2_model.h5')\n",
    "lstm_model.save_weights('./LSTM_Model_V2/lstmv2_modelWeights')\n",
    "lstm_model.save_weights('./LSTM_Model_V2/lstmv2_modelWeights.h5')"
   ]
  },
  {
   "cell_type": "markdown",
   "id": "84c5e93f",
   "metadata": {},
   "source": [
    "## Evaluate Model"
   ]
  },
  {
   "cell_type": "code",
   "execution_count": null,
   "id": "49289c03",
   "metadata": {},
   "outputs": [],
   "source": [
    "# Predict the values\n",
    "y_lstm_predict = lstm_model.predict(X_lstm_test).round()\n",
    "\n",
    "# Create a confusion matrix based on a predicted column\n",
    "result = confusion_matrix(y_lstm_test, y_lstm_predict, normalize='pred')\n",
    "\n",
    "# Plot Confusion Matrix\n",
    "sns.heatmap(result, annot=True)"
   ]
  },
  {
   "cell_type": "code",
   "execution_count": null,
   "id": "383efb7b",
   "metadata": {},
   "outputs": [],
   "source": [
    "scores = lstm_model.evaluate(X_lstm_test, y_lstm_test)"
   ]
  },
  {
   "cell_type": "code",
   "execution_count": null,
   "id": "fcc9fa8f",
   "metadata": {},
   "outputs": [],
   "source": [
    "print(history.params)\n",
    "print(history.history.keys())\n",
    "\n",
    "accuracy = history.history['accuracy']\n",
    "val_accuracy = history.history['val_accuracy']\n",
    "\n",
    "loss =history.history['loss']\n",
    "val_loss = history.history['val_loss']"
   ]
  },
  {
   "cell_type": "code",
   "execution_count": null,
   "id": "74a17afc",
   "metadata": {},
   "outputs": [],
   "source": [
    "EPOCHS = 20\n",
    "plt.figure(figsize=(8,8))\n",
    "plt.subplot(1,2,1)\n",
    "plt.plot(range(EPOCHS), accuracy, label='Training Accuracy')\n",
    "plt.plot(range(EPOCHS), val_accuracy, label='Validation Accuracy')\n",
    "plt.legend(loc='lower right')\n",
    "plt.title('Training and Validation Accuracy')\n",
    "\n",
    "plt.figure(figsize=(8,8))\n",
    "plt.subplot(1,2,1)\n",
    "plt.plot(range(EPOCHS), loss, label='Loss')\n",
    "plt.plot(range(EPOCHS), val_loss, label='Validation Loss')\n",
    "plt.legend(loc='upper right')\n",
    "plt.title('Training and Validation Loss')"
   ]
  },
  {
   "cell_type": "markdown",
   "id": "e5fcb29d",
   "metadata": {},
   "source": []
  }
 ],
 "metadata": {
  "kernelspec": {
   "display_name": "Python 3 (ipykernel)",
   "language": "python",
   "name": "python3"
  },
  "language_info": {
   "codemirror_mode": {
    "name": "ipython",
    "version": 3
   },
   "file_extension": ".py",
   "mimetype": "text/x-python",
   "name": "python",
   "nbconvert_exporter": "python",
   "pygments_lexer": "ipython3",
   "version": "3.9.19"
  }
 },
 "nbformat": 4,
 "nbformat_minor": 5
}
