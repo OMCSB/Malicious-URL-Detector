{
 "cells": [
  {
   "cell_type": "markdown",
   "id": "76401151-02b8-4f82-807e-fba50bdf3153",
   "metadata": {},
   "source": [
    "# Import the neccessary libraries"
   ]
  },
  {
   "cell_type": "code",
   "execution_count": 2,
   "id": "ce4d72b1-b736-48e4-bec8-0d346c14d97b",
   "metadata": {
    "scrolled": true
   },
   "outputs": [],
   "source": [
    "import spacy\n",
    "import pandas as pd\n",
    "import numpy as np\n",
    "import tensorflow as tf\n",
    "from tensorflow.keras.models import Sequential\n",
    "from tensorflow.keras.layers import Embedding, LSTM, Dense, Dropout\n",
    "from tensorflow.keras.optimizers import Adam\n",
    "from sklearn.model_selection import train_test_split\n",
    "from sklearn.metrics import accuracy_score, precision_score, recall_score, f1_score, roc_auc_score, confusion_matrix\n",
    "\n",
    "import data_preprocessing"
   ]
  },
  {
   "cell_type": "markdown",
   "id": "f60a1e7f-f916-4f8c-9a1d-ef4e175d0001",
   "metadata": {},
   "source": [
    "# Data Processing\n",
    "\n",
    "## To match the header name of both files\n",
    "def equalizing_csv(df2):\n",
    "\tdf2['result'] = df2['type'].apply(lambda x: 0 if x == 'benign' else 1)\n",
    "\tdf2 = df2.rename(columns={'type': 'label'})\n",
    "\treturn df2\n",
    "\n",
    "#Modify the file \n",
    "df2 = pd.read_csv(df2_name)\n",
    "df2 = equalizing_csv(df2)\n",
    "df2.to_csv(df2_name, index=False)\n",
    "\n",
    "## Run if there's no combined CSV file\n",
    "df1 = pd.read_csv('data/balanced_urls.csv')\n",
    "df2 = pd.read_csv('data/malicious_phish.csv')\n",
    "\n",
    "newDfName = data_preprocessing.mod_csv_combine(df1, df2)\n",
    "\n",
    "## Run to remove duplicates\n",
    "~~df = data_preprocessing.remove_duplicate(newDfName)~~\n",
    "\n",
    "\"if you omit the duplicates, that will skew the base rate of each distinct object. If the training data are a representative sample of the real world, then you don't want that, because you will actually be training for a slightly different world (one with different base rates).\""
   ]
  },
  {
   "cell_type": "code",
   "execution_count": 3,
   "id": "addf6ad8-0fa9-485f-8e10-a00968dff499",
   "metadata": {},
   "outputs": [
    {
     "name": "stdout",
     "output_type": "stream",
     "text": [
      "1283699\n"
     ]
    }
   ],
   "source": [
    "#Print the number of rows in the dataset\n",
    "df = pd.read_csv('malicious_urls.csv')\n",
    "# df = data_preprocessing.remove_duplicate('malicious_urls.csv')\n",
    "\n",
    "# df_filtered = df.loc[(df['label'] != 'malicious') | ~df.duplicated(subset=['url'])]\n",
    "\n",
    "# df_filtered = df[df['label'].isin(['malicious', 'benign', 'defacement', 'phishing', 'malware'])]\n",
    "\n",
    "# # Create a custom function to compare rows with the same URL\n",
    "# def compare_labels(row):\n",
    "#     url = row['url']\n",
    "#     if url in df_filtered.index:\n",
    "#       # Get all rows with the same URL\n",
    "#       same_url_df = df_filtered[df_filtered['url'] == url]\n",
    "#       # Check if any label other than 'malicious' exists\n",
    "#       return not same_url_df['label'].str.contains('malicious').all()\n",
    "#     else:\n",
    "#       # URL not found in filtered dataframe, keep the row\n",
    "#       return True\n",
    "\n",
    "# # Use the custom function with drop_duplicates\n",
    "# df = df_filtered.loc[df.apply(compare_labels, axis=1)]\n",
    "\n",
    "# df = df.groupby('url').apply(lambda x: x.sort_values(by='label')).reset_index(drop=True)\n",
    "\n",
    "# # Keep rows where label is not 'malicious'\n",
    "# df = df[df['label'] != 'malicious']\n",
    "\n",
    "row_count = df.shape[0]\n",
    "print(row_count)"
   ]
  },
  {
   "cell_type": "markdown",
   "id": "505e37b0-4bf9-4dc9-a992-18883005d845",
   "metadata": {},
   "source": [
    "## Dataframe info"
   ]
  },
  {
   "cell_type": "code",
   "execution_count": 4,
   "id": "b1e18723-2d36-45da-b61a-059f3f3e39f1",
   "metadata": {},
   "outputs": [
    {
     "name": "stdout",
     "output_type": "stream",
     "text": [
      "<class 'pandas.core.frame.DataFrame'>\n",
      "RangeIndex: 1283699 entries, 0 to 1283698\n",
      "Data columns (total 3 columns):\n",
      " #   Column  Non-Null Count    Dtype \n",
      "---  ------  --------------    ----- \n",
      " 0   url     1283699 non-null  object\n",
      " 1   label   1283699 non-null  object\n",
      " 2   result  1283699 non-null  int64 \n",
      "dtypes: int64(1), object(2)\n",
      "memory usage: 29.4+ MB\n"
     ]
    }
   ],
   "source": [
    "df.info()"
   ]
  },
  {
   "cell_type": "markdown",
   "id": "98f06ec2-c144-45b3-993c-e5526558264f",
   "metadata": {},
   "source": [
    "## Check for NaN Values"
   ]
  },
  {
   "cell_type": "code",
   "execution_count": 5,
   "id": "efbff681-a851-4b28-8221-5d0c5a2c0069",
   "metadata": {},
   "outputs": [
    {
     "data": {
      "text/plain": [
       "url       0\n",
       "label     0\n",
       "result    0\n",
       "dtype: int64"
      ]
     },
     "execution_count": 5,
     "metadata": {},
     "output_type": "execute_result"
    }
   ],
   "source": [
    "df.isnull().sum()"
   ]
  },
  {
   "cell_type": "markdown",
   "id": "c967f5d7-dcf7-4ec8-9936-ad969ba99741",
   "metadata": {},
   "source": [
    "## Count unique data in 'label' column"
   ]
  },
  {
   "cell_type": "code",
   "execution_count": 6,
   "id": "e75855ff-30d7-4775-8815-74e2419b5dc8",
   "metadata": {},
   "outputs": [
    {
     "data": {
      "text/plain": [
       "label\n",
       "benign        744357\n",
       "malicious     316254\n",
       "defacement     96457\n",
       "phishing       94111\n",
       "malware        32520\n",
       "Name: count, dtype: int64"
      ]
     },
     "execution_count": 6,
     "metadata": {},
     "output_type": "execute_result"
    }
   ],
   "source": [
    "df.label.value_counts()"
   ]
  }
 ],
 "metadata": {
  "kernelspec": {
   "display_name": "Python 3 (ipykernel)",
   "language": "python",
   "name": "python3"
  },
  "language_info": {
   "codemirror_mode": {
    "name": "ipython",
    "version": 3
   },
   "file_extension": ".py",
   "mimetype": "text/x-python",
   "name": "python",
   "nbconvert_exporter": "python",
   "pygments_lexer": "ipython3",
   "version": "3.9.19"
  }
 },
 "nbformat": 4,
 "nbformat_minor": 5
}
