{
 "cells": [
  {
   "cell_type": "markdown",
   "id": "76401151-02b8-4f82-807e-fba50bdf3153",
   "metadata": {},
   "source": [
    "# Import the neccessary libraries"
   ]
  },
  {
   "cell_type": "code",
   "execution_count": 43,
   "id": "ce4d72b1-b736-48e4-bec8-0d346c14d97b",
   "metadata": {
    "scrolled": true
   },
   "outputs": [],
   "source": [
    "import spacy\n",
    "import pandas as pd\n",
    "import numpy as np\n",
    "import tensorflow as tf\n",
    "from collections import Counter\n",
    "import multiprocessing\n",
    "from gensim.models import Word2Vec\n",
    "import seaborn as sns\n",
    "\n",
    "# Import tensorflow module\n",
    "from tensorflow.keras.preprocessing.text import Tokenizer\n",
    "from tensorflow.keras.preprocessing.sequence import pad_sequences\n",
    "from tensorflow.keras.models import Sequential\n",
    "from tensorflow.keras.layers import Embedding, LSTM, Dense, Dropout, Flatten\n",
    "from tensorflow.keras.optimizers.legacy import Adam\n",
    "\n",
    "# Import sklearn module\n",
    "from sklearn.model_selection import train_test_split\n",
    "from sklearn.metrics import accuracy_score, precision_score, recall_score, f1_score, roc_auc_score, confusion_matrix\n",
    "from sklearn.cluster import KMeans\n",
    "from sklearn.preprocessing import MinMaxScaler\n",
    "\n",
    "import matplotlib.pyplot as plt\n",
    "\n",
    "import utils.data_preprocessing as data_preprocessing\n",
    "import utils.url_loader as url_loader"
   ]
  },
  {
   "cell_type": "code",
   "execution_count": 2,
   "id": "de31c9f7",
   "metadata": {},
   "outputs": [
    {
     "name": "stdout",
     "output_type": "stream",
     "text": [
      "1 Physical GPUs, 1 Logical GPU\n"
     ]
    }
   ],
   "source": [
    "gpus = tf.config.list_physical_devices('GPU')\n",
    "if gpus:\n",
    "  # Restrict TensorFlow to only use the first GPU\n",
    "  try:\n",
    "    tf.config.set_visible_devices(gpus[0], 'GPU')\n",
    "    logical_gpus = tf.config.list_logical_devices('GPU')\n",
    "    print(len(gpus), \"Physical GPUs,\", len(logical_gpus), \"Logical GPU\")\n",
    "  except RuntimeError as e:\n",
    "    # Visible devices must be set before GPUs have been initialized\n",
    "    print(e)"
   ]
  },
  {
   "cell_type": "markdown",
   "id": "f60a1e7f-f916-4f8c-9a1d-ef4e175d0001",
   "metadata": {},
   "source": [
    "# Data Processing\n",
    "\n",
    "## Run to remove duplicates\n",
    "~~df = data_preprocessing.remove_duplicate(newDfName)~~\n",
    "\n",
    "\"if you omit the duplicates, that will skew the base rate of each distinct object. If the training data are a representative sample of the real world, then you don't want that, because you will actually be training for a slightly different world (one with different base rates).\""
   ]
  },
  {
   "cell_type": "code",
   "execution_count": 3,
   "id": "addf6ad8-0fa9-485f-8e10-a00968dff499",
   "metadata": {},
   "outputs": [
    {
     "name": "stdout",
     "output_type": "stream",
     "text": [
      "632508\n"
     ]
    },
    {
     "data": {
      "text/plain": [
       "'DataFrame Shape (632508, 3)'"
      ]
     },
     "metadata": {},
     "output_type": "display_data"
    }
   ],
   "source": [
    "#Print the number of rows in the dataset\n",
    "df = pd.read_csv('./data/balanced_urls.csv')\n",
    "\n",
    "row_count = df.shape[0]\n",
    "print(row_count)\n",
    "display('DataFrame Shape {}'.format(df.shape))\n",
    "\n",
    "# LSTM \n",
    "df_lstm = df.copy()\n",
    "\n",
    "# K-Means Clustering\n",
    "df_kmeans = df.copy()"
   ]
  },
  {
   "cell_type": "markdown",
   "id": "505e37b0-4bf9-4dc9-a992-18883005d845",
   "metadata": {},
   "source": [
    "## Dataframe info"
   ]
  },
  {
   "cell_type": "code",
   "execution_count": 4,
   "id": "b1e18723-2d36-45da-b61a-059f3f3e39f1",
   "metadata": {},
   "outputs": [
    {
     "name": "stdout",
     "output_type": "stream",
     "text": [
      "<class 'pandas.core.frame.DataFrame'>\n",
      "RangeIndex: 632508 entries, 0 to 632507\n",
      "Data columns (total 3 columns):\n",
      " #   Column  Non-Null Count   Dtype \n",
      "---  ------  --------------   ----- \n",
      " 0   url     632508 non-null  object\n",
      " 1   label   632508 non-null  object\n",
      " 2   result  632508 non-null  int64 \n",
      "dtypes: int64(1), object(2)\n",
      "memory usage: 14.5+ MB\n"
     ]
    }
   ],
   "source": [
    "df.info()"
   ]
  },
  {
   "cell_type": "markdown",
   "id": "98f06ec2-c144-45b3-993c-e5526558264f",
   "metadata": {},
   "source": [
    "## Check for NaN Values"
   ]
  },
  {
   "cell_type": "code",
   "execution_count": 5,
   "id": "efbff681-a851-4b28-8221-5d0c5a2c0069",
   "metadata": {},
   "outputs": [
    {
     "data": {
      "text/plain": [
       "url       0\n",
       "label     0\n",
       "result    0\n",
       "dtype: int64"
      ]
     },
     "execution_count": 5,
     "metadata": {},
     "output_type": "execute_result"
    }
   ],
   "source": [
    "df.isnull().sum()"
   ]
  },
  {
   "cell_type": "markdown",
   "id": "c967f5d7-dcf7-4ec8-9936-ad969ba99741",
   "metadata": {},
   "source": [
    "## Count unique data in 'label' column"
   ]
  },
  {
   "cell_type": "code",
   "execution_count": 6,
   "id": "e75855ff-30d7-4775-8815-74e2419b5dc8",
   "metadata": {},
   "outputs": [
    {
     "data": {
      "text/plain": [
       "label\n",
       "benign       316254\n",
       "malicious    316254\n",
       "Name: count, dtype: int64"
      ]
     },
     "execution_count": 6,
     "metadata": {},
     "output_type": "execute_result"
    }
   ],
   "source": [
    "df.label.value_counts()"
   ]
  },
  {
   "cell_type": "markdown",
   "id": "7fde55c3",
   "metadata": {},
   "source": [
    "# K-Means Clustering Model Preparation"
   ]
  },
  {
   "cell_type": "code",
   "execution_count": 7,
   "id": "635f962e",
   "metadata": {},
   "outputs": [
    {
     "data": {
      "text/html": [
       "<div>\n",
       "<style scoped>\n",
       "    .dataframe tbody tr th:only-of-type {\n",
       "        vertical-align: middle;\n",
       "    }\n",
       "\n",
       "    .dataframe tbody tr th {\n",
       "        vertical-align: top;\n",
       "    }\n",
       "\n",
       "    .dataframe thead th {\n",
       "        text-align: right;\n",
       "    }\n",
       "</style>\n",
       "<table border=\"1\" class=\"dataframe\">\n",
       "  <thead>\n",
       "    <tr style=\"text-align: right;\">\n",
       "      <th></th>\n",
       "      <th>url</th>\n",
       "      <th>label</th>\n",
       "      <th>result</th>\n",
       "      <th>url_length</th>\n",
       "      <th>digits_in_url</th>\n",
       "      <th>non_numerical_in_url</th>\n",
       "      <th>domain_name</th>\n",
       "    </tr>\n",
       "  </thead>\n",
       "  <tbody>\n",
       "    <tr>\n",
       "      <th>0</th>\n",
       "      <td>https://www.google.com</td>\n",
       "      <td>benign</td>\n",
       "      <td>0</td>\n",
       "      <td>22</td>\n",
       "      <td>0</td>\n",
       "      <td>5</td>\n",
       "      <td>www.google.com</td>\n",
       "    </tr>\n",
       "    <tr>\n",
       "      <th>1</th>\n",
       "      <td>https://www.youtube.com</td>\n",
       "      <td>benign</td>\n",
       "      <td>0</td>\n",
       "      <td>23</td>\n",
       "      <td>0</td>\n",
       "      <td>5</td>\n",
       "      <td>www.youtube.com</td>\n",
       "    </tr>\n",
       "    <tr>\n",
       "      <th>2</th>\n",
       "      <td>https://www.facebook.com</td>\n",
       "      <td>benign</td>\n",
       "      <td>0</td>\n",
       "      <td>24</td>\n",
       "      <td>0</td>\n",
       "      <td>5</td>\n",
       "      <td>www.facebook.com</td>\n",
       "    </tr>\n",
       "    <tr>\n",
       "      <th>3</th>\n",
       "      <td>https://www.baidu.com</td>\n",
       "      <td>benign</td>\n",
       "      <td>0</td>\n",
       "      <td>21</td>\n",
       "      <td>0</td>\n",
       "      <td>5</td>\n",
       "      <td>www.baidu.com</td>\n",
       "    </tr>\n",
       "    <tr>\n",
       "      <th>4</th>\n",
       "      <td>https://www.wikipedia.org</td>\n",
       "      <td>benign</td>\n",
       "      <td>0</td>\n",
       "      <td>25</td>\n",
       "      <td>0</td>\n",
       "      <td>5</td>\n",
       "      <td>www.wikipedia.org</td>\n",
       "    </tr>\n",
       "  </tbody>\n",
       "</table>\n",
       "</div>"
      ],
      "text/plain": [
       "                         url   label  result  url_length  digits_in_url  \\\n",
       "0     https://www.google.com  benign       0          22              0   \n",
       "1    https://www.youtube.com  benign       0          23              0   \n",
       "2   https://www.facebook.com  benign       0          24              0   \n",
       "3      https://www.baidu.com  benign       0          21              0   \n",
       "4  https://www.wikipedia.org  benign       0          25              0   \n",
       "\n",
       "   non_numerical_in_url        domain_name  \n",
       "0                     5     www.google.com  \n",
       "1                     5    www.youtube.com  \n",
       "2                     5   www.facebook.com  \n",
       "3                     5      www.baidu.com  \n",
       "4                     5  www.wikipedia.org  "
      ]
     },
     "execution_count": 7,
     "metadata": {},
     "output_type": "execute_result"
    }
   ],
   "source": [
    "df_kmeans['url_length'] = df_kmeans['url'].apply(lambda x: len(str(x))) # Get Length of URL\n",
    "df_kmeans['digits_in_url'] = df_kmeans['url'].apply(lambda x: url_loader.count_digits(x)) # Get Number of Digits in URL\n",
    "df_kmeans['non_numerical_in_url'] = df_kmeans['url'].apply(lambda x: url_loader.count_nonDigitsAlpahbet(x)) # Get Number of Non-Numeric in URL\n",
    "df_kmeans['domain_name'] = df_kmeans['url'].apply(lambda x: url_loader.get_domain_name(x)) # Get Domain Name of URL\n",
    "\n",
    "df_kmeans.head()"
   ]
  },
  {
   "cell_type": "code",
   "execution_count": 8,
   "id": "92a684e2",
   "metadata": {},
   "outputs": [],
   "source": [
    "X_kmeans = df_kmeans\n",
    "y_kmeans = df_kmeans['result']\n",
    "\n",
    "X_kmeans_train, X_kmeans_test, y_kmeans_train, y_kmeans_test=train_test_split(X_kmeans,y_kmeans, test_size=0.1, random_state=21)"
   ]
  },
  {
   "cell_type": "code",
   "execution_count": 9,
   "id": "9ae53fbf",
   "metadata": {},
   "outputs": [],
   "source": [
    "X_kmeans_train_new = pd.DataFrame()\n",
    "X_kmeans_train_new['url_length'] = X_kmeans_train['url_length']\n",
    "X_kmeans_train_new['non_numerical_alphabetical_in_url'] = X_kmeans_train['non_numerical_in_url']\n",
    "X_kmeans_train_new['digits_in_url'] = X_kmeans_train['digits_in_url']\n",
    "X_kmeans_train_new['results'] = X_kmeans_train['result']"
   ]
  },
  {
   "cell_type": "markdown",
   "id": "01a5e30c",
   "metadata": {},
   "source": [
    "## Check for missing values\n",
    "``"
   ]
  },
  {
   "cell_type": "code",
   "execution_count": 10,
   "id": "2bd69668",
   "metadata": {},
   "outputs": [
    {
     "data": {
      "text/html": [
       "<div>\n",
       "<style scoped>\n",
       "    .dataframe tbody tr th:only-of-type {\n",
       "        vertical-align: middle;\n",
       "    }\n",
       "\n",
       "    .dataframe tbody tr th {\n",
       "        vertical-align: top;\n",
       "    }\n",
       "\n",
       "    .dataframe thead th {\n",
       "        text-align: right;\n",
       "    }\n",
       "</style>\n",
       "<table border=\"1\" class=\"dataframe\">\n",
       "  <thead>\n",
       "    <tr style=\"text-align: right;\">\n",
       "      <th></th>\n",
       "      <th>url_length</th>\n",
       "      <th>non_numerical_alphabetical_in_url</th>\n",
       "      <th>digits_in_url</th>\n",
       "      <th>results</th>\n",
       "    </tr>\n",
       "  </thead>\n",
       "  <tbody>\n",
       "  </tbody>\n",
       "</table>\n",
       "</div>"
      ],
      "text/plain": [
       "Empty DataFrame\n",
       "Columns: [url_length, non_numerical_alphabetical_in_url, digits_in_url, results]\n",
       "Index: []"
      ]
     },
     "execution_count": 10,
     "metadata": {},
     "output_type": "execute_result"
    }
   ],
   "source": [
    "X_kmeans_train_new.isna().sum()\n",
    "missing_cols, missing_rows = (\n",
    "    (X_kmeans_train_new.isnull().sum(x) | X_kmeans_train_new.eq('').sum(x))\n",
    "    .loc[lambda x: x.gt(0)].index\n",
    "    for x in (0, 1)\n",
    ")\n",
    "X_kmeans_train_new.loc[missing_rows]"
   ]
  },
  {
   "cell_type": "markdown",
   "id": "fa8af00c",
   "metadata": {},
   "source": [
    "# K-Means Clustering Preparation"
   ]
  },
  {
   "cell_type": "code",
   "execution_count": 11,
   "id": "4e1dd462",
   "metadata": {},
   "outputs": [
    {
     "data": {
      "text/plain": [
       "array([[0.0177259 , 0.04624277, 0.00271003],\n",
       "       [0.0077821 , 0.03468208, 0.        ],\n",
       "       [0.02377864, 0.05202312, 0.        ],\n",
       "       ...,\n",
       "       [0.04539559, 0.10404624, 0.01897019],\n",
       "       [0.04712495, 0.13294798, 0.01084011],\n",
       "       [0.01124081, 0.02312139, 0.00542005]])"
      ]
     },
     "metadata": {},
     "output_type": "display_data"
    }
   ],
   "source": [
    "X_kmeans = X_kmeans_train_new\n",
    "X_kmeans = X_kmeans.drop('results', axis=1)\n",
    "X_kmeans = MinMaxScaler().fit_transform(X_kmeans)\n",
    "display(X_kmeans)\n",
    "y_kmeans = X_kmeans_train_new['results']"
   ]
  },
  {
   "cell_type": "code",
   "execution_count": 12,
   "id": "47487bfc",
   "metadata": {},
   "outputs": [
    {
     "data": {
      "text/plain": [
       "array([0, 0, 0, ..., 1, 1, 0])"
      ]
     },
     "execution_count": 12,
     "metadata": {},
     "output_type": "execute_result"
    }
   ],
   "source": [
    "kmeans = KMeans(n_clusters=2,init='k-means++',max_iter=300,n_init=10,random_state=42)\n",
    "kmeans.fit(X_kmeans)\n",
    "kmeans.labels_"
   ]
  },
  {
   "cell_type": "code",
   "execution_count": 13,
   "id": "02456006",
   "metadata": {},
   "outputs": [
    {
     "name": "stdout",
     "output_type": "stream",
     "text": [
      "Result: 315770 out of 569257 samples were correctly labeled.\n",
      "Accuracy score: 0.55\n"
     ]
    }
   ],
   "source": [
    "correct_labels = sum(y_kmeans == kmeans.labels_)\n",
    "\n",
    "print(\"Result: %d out of %d samples were correctly labeled.\" % (correct_labels, y_kmeans.size))\n",
    "\n",
    "print('Accuracy score: {0:0.2f}'. format(correct_labels/float(y_kmeans.size)))"
   ]
  },
  {
   "cell_type": "code",
   "execution_count": 14,
   "id": "debcfeda",
   "metadata": {},
   "outputs": [
    {
     "data": {
      "image/png": "[encoded data removed]",
      "text/plain": [
       "<Figure size 640x480 with 1 Axes>"
      ]
     },
     "metadata": {},
     "output_type": "display_data"
    }
   ],
   "source": [
    "cs = []\n",
    "for i in range(1, 11):\n",
    "    kmeans = KMeans(n_clusters = i, init = 'k-means++', max_iter = 300, n_init = 10, random_state = 0)\n",
    "    kmeans.fit(X_kmeans)\n",
    "    cs.append(kmeans.inertia_)\n",
    "plt.plot(range(1, 11), cs)\n",
    "plt.title('The Elbow Method')\n",
    "plt.xlabel('Number of clusters')\n",
    "plt.ylabel('CS')\n",
    "plt.show()"
   ]
  },
  {
   "cell_type": "code",
   "execution_count": 15,
   "id": "63d474b2",
   "metadata": {},
   "outputs": [
    {
     "name": "stderr",
     "output_type": "stream",
     "text": [
      "c:\\Users\\garet\\anaconda3\\envs\\tf\\lib\\site-packages\\sklearn\\base.py:486: UserWarning: X has feature names, but KMeans was fitted without feature names\n",
      "  warnings.warn(\n"
     ]
    }
   ],
   "source": [
    "X_kmeans_test = X_kmeans_test.drop('url', axis=1)\n",
    "X_kmeans_test = X_kmeans_test.drop('label', axis=1)\n",
    "X_kmeans_test = X_kmeans_test.drop('result', axis=1)\n",
    "X_kmeans_test = X_kmeans_test.drop('domain_name', axis=1)\n",
    "y_kmeans_predict = kmeans.predict(X_kmeans_test)\n",
    "\n",
    "# print(y_kmeans_predict)"
   ]
  },
  {
   "cell_type": "code",
   "execution_count": 16,
   "id": "6dc8701f",
   "metadata": {},
   "outputs": [
    {
     "name": "stdout",
     "output_type": "stream",
     "text": [
      "Result: 0 out of 63251 samples were correctly labeled.\n",
      "Accuracy score: 0.00\n"
     ]
    }
   ],
   "source": [
    "correct_labels = sum(y_kmeans_test == y_kmeans_predict)\n",
    "\n",
    "print(\"Result: %d out of %d samples were correctly labeled.\" % (correct_labels, y_kmeans_test.size))\n",
    "\n",
    "print('Accuracy score: {0:0.2f}'. format(correct_labels/float(y_kmeans_test.size)))"
   ]
  },
  {
   "cell_type": "markdown",
   "id": "7151c0d2",
   "metadata": {},
   "source": [
    "# LSTM Model Preparation"
   ]
  },
  {
   "cell_type": "markdown",
   "id": "ab948d0f",
   "metadata": {},
   "source": [
    "## Tokenizing the URL - Word2Vec                        "
   ]
  },
  {
   "cell_type": "code",
   "execution_count": 17,
   "id": "2e9b09fb",
   "metadata": {},
   "outputs": [
    {
     "name": "stdout",
     "output_type": "stream",
     "text": [
      "632508\n"
     ]
    }
   ],
   "source": [
    "# Initialize list\n",
    "txt = [url_loader.tokenize_url_regex(word) for word in df_lstm['url']]\n",
    "# print(txt[:5])\n",
    "print(len(txt))\n",
    "\n",
    "# Add tokenized url to new dataset to feed to word2vec model\n",
    "df_lstm['tokenized_url'] = txt"
   ]
  },
  {
   "cell_type": "markdown",
   "id": "a7a83850",
   "metadata": {},
   "source": [
    "## Building Word2Vec Model"
   ]
  },
  {
   "cell_type": "code",
   "execution_count": 18,
   "id": "b4796bfb",
   "metadata": {},
   "outputs": [],
   "source": [
    "# Get number of cores\n",
    "cores = multiprocessing.cpu_count()\n",
    "\n",
    "# Initialize Word2Vec Model\n",
    "word2vec_model = Word2Vec(\n",
    "    min_count = 2,\n",
    "    vector_size=32,\n",
    "    window=10,\n",
    "    workers=1\n",
    ")"
   ]
  },
  {
   "cell_type": "code",
   "execution_count": 19,
   "id": "e7de29f8",
   "metadata": {},
   "outputs": [],
   "source": [
    "# Build the Word2Vec Vocabulary Corpus\n",
    "word2vec_model.build_vocab(txt, progress_per=10000)"
   ]
  },
  {
   "cell_type": "code",
   "execution_count": 20,
   "id": "94b486dc",
   "metadata": {},
   "outputs": [
    {
     "data": {
      "text/plain": [
       "(19802241, 35939220)"
      ]
     },
     "execution_count": 20,
     "metadata": {},
     "output_type": "execute_result"
    }
   ],
   "source": [
    "# Train the Word2Vec Model\n",
    "word2vec_model.train(txt, total_examples=len(txt), epochs=10, report_delay=1)"
   ]
  },
  {
   "cell_type": "markdown",
   "id": "f2fd1ccf",
   "metadata": {},
   "source": [
    "## Get Vocab Size, Input Length, and Embedding Size"
   ]
  },
  {
   "cell_type": "code",
   "execution_count": 21,
   "id": "1411fe22",
   "metadata": {},
   "outputs": [
    {
     "name": "stdout",
     "output_type": "stream",
     "text": [
      "The number of vocab: 128153\n"
     ]
    }
   ],
   "source": [
    "# Get Vocab Size\n",
    "vocab=word2vec_model.wv\n",
    "vocab_size=len(vocab)\n",
    "print(f\"The number of vocab: {vocab_size}\")"
   ]
  },
  {
   "cell_type": "code",
   "execution_count": 22,
   "id": "00516621",
   "metadata": {},
   "outputs": [],
   "source": [
    "# Get Keys from Word2Vec Model\n",
    "vocab_keys=list(vocab.index_to_key)"
   ]
  },
  {
   "cell_type": "code",
   "execution_count": 23,
   "id": "51c01ed0",
   "metadata": {},
   "outputs": [
    {
     "name": "stdout",
     "output_type": "stream",
     "text": [
      "Number of key-value pairs 128153\n"
     ]
    }
   ],
   "source": [
    "# Create External Dictionary to store Key-Value Pairs\n",
    "word_vec_dict={}\n",
    "for words in vocab_keys:\n",
    "    word_vec_dict[words]=vocab.get_vector(words)\n",
    "print(f\"Number of key-value pairs {len(word_vec_dict)}\")"
   ]
  },
  {
   "cell_type": "code",
   "execution_count": 24,
   "id": "ee90a58a",
   "metadata": {},
   "outputs": [
    {
     "name": "stdout",
     "output_type": "stream",
     "text": [
      "59\n"
     ]
    }
   ],
   "source": [
    "# Get Maximum Length of Tokenized URL\n",
    "maxi=-1\n",
    "for i, rev in enumerate(df_lstm['tokenized_url']):\n",
    "    if(len(rev)>maxi):\n",
    "        maxi=len(rev)\n",
    "print(maxi)"
   ]
  },
  {
   "cell_type": "code",
   "execution_count": 27,
   "id": "d9382dbd",
   "metadata": {},
   "outputs": [],
   "source": [
    "# Create a Index to Word Mapping for the Tokenized URLs\n",
    "tok = Tokenizer()\n",
    "tok.fit_on_texts(df_lstm['tokenized_url'])\n",
    "vocab_size = len(tok.word_index) + 1\n",
    "encd_rev = tok.texts_to_sequences(df_lstm['tokenized_url'])"
   ]
  },
  {
   "cell_type": "code",
   "execution_count": 28,
   "id": "e81892f7",
   "metadata": {},
   "outputs": [],
   "source": [
    "# Initialize Input Length and Embedding Size\n",
    "max_url_len = maxi+1 #(60)\n",
    "embed_dim=32"
   ]
  },
  {
   "cell_type": "code",
   "execution_count": 29,
   "id": "1655ec7e",
   "metadata": {},
   "outputs": [
    {
     "data": {
      "text/plain": [
       "(632508, 60)"
      ]
     },
     "execution_count": 29,
     "metadata": {},
     "output_type": "execute_result"
    }
   ],
   "source": [
    "# Ensure all URL sequence has the same length which is the maximum length of the tokenized url\n",
    "pad_rev=pad_sequences(encd_rev, maxlen=max_url_len, padding=\"post\")\n",
    "pad_rev.shape"
   ]
  },
  {
   "cell_type": "code",
   "execution_count": 30,
   "id": "d59fe5e4",
   "metadata": {},
   "outputs": [],
   "source": [
    "# Creating a Word Embedding Matrix to be passed onto the Embedding Layer of the Deep Learning model\n",
    "embed_matrix=np.zeros(shape=(vocab_size,embed_dim))\n",
    "for word, i in tok.word_index.items():\n",
    "    embed_vector=word_vec_dict.get(word)\n",
    "    if embed_vector is not None:\n",
    "        embed_matrix[i]=embed_vector\n",
    "# print(embed_matrix[3])"
   ]
  },
  {
   "cell_type": "markdown",
   "id": "e85810ce",
   "metadata": {},
   "source": [
    "# LSTM Model Building and Training"
   ]
  },
  {
   "cell_type": "code",
   "execution_count": 31,
   "id": "1318639f",
   "metadata": {},
   "outputs": [],
   "source": [
    "# Initialize the y axis\n",
    "y_lstm = df_lstm['result']\n",
    "\n",
    "# Splitting the dataset into train and test dataset\n",
    "X_lstm_train, X_lstm_test, y_lstm_train, y_lstm_test=train_test_split(pad_rev,y_lstm, test_size=0.1, random_state=21)"
   ]
  },
  {
   "cell_type": "code",
   "execution_count": 32,
   "id": "de2c0287",
   "metadata": {},
   "outputs": [
    {
     "name": "stdout",
     "output_type": "stream",
     "text": [
      "Model: \"sequential\"\n",
      "_________________________________________________________________\n",
      " Layer (type)                Output Shape              Param #   \n",
      "=================================================================\n",
      " embedding (Embedding)       (None, 60, 32)            22027552  \n",
      "                                                                 \n",
      " lstm (LSTM)                 (None, 32)                8320      \n",
      "                                                                 \n",
      " dropout (Dropout)           (None, 32)                0         \n",
      "                                                                 \n",
      " dense (Dense)               (None, 64)                2112      \n",
      "                                                                 \n",
      " dense_1 (Dense)             (None, 1)                 65        \n",
      "                                                                 \n",
      "=================================================================\n",
      "Total params: 22,038,049\n",
      "Trainable params: 22,038,049\n",
      "Non-trainable params: 0\n",
      "_________________________________________________________________\n"
     ]
    }
   ],
   "source": [
    "# Initialize the LSTM MODEL\n",
    "\n",
    "from tensorflow.keras.initializers import Constant\n",
    "# Define the LSTM model\n",
    "lstm_model = Sequential()\n",
    "lstm_model.add(Embedding(input_dim=vocab_size, output_dim=embed_dim, input_length=max_url_len, embeddings_initializer=Constant(embed_matrix)))\n",
    "# lstm_model.add(Flatten())\n",
    "# lstm_model.add(Dropout(0.2))\n",
    "lstm_model.add(LSTM(32))\n",
    "lstm_model.add(Dropout(0.2))\n",
    "lstm_model.add(Dense(64, activation='relu')) \n",
    "lstm_model.add(Dense(1, activation='sigmoid'))\n",
    "\n",
    "# Compile the lstm_model\n",
    "lstm_model.compile(loss='binary_crossentropy', optimizer=Adam(), metrics=['accuracy'])\n",
    "\n",
    "# Model summary\n",
    "lstm_model.summary()"
   ]
  },
  {
   "cell_type": "code",
   "execution_count": 33,
   "id": "d0872619",
   "metadata": {},
   "outputs": [
    {
     "name": "stdout",
     "output_type": "stream",
     "text": [
      "Epoch 1/20\n",
      "6227/6227 [==============================] - 172s 26ms/step - loss: 0.4999 - accuracy: 0.7463 - val_loss: 0.4747 - val_accuracy: 0.7619\n",
      "Epoch 2/20\n",
      "6227/6227 [==============================] - 162s 26ms/step - loss: 0.4526 - accuracy: 0.8094 - val_loss: 0.4938 - val_accuracy: 0.7877\n",
      "Epoch 3/20\n",
      "6227/6227 [==============================] - 163s 26ms/step - loss: 0.3906 - accuracy: 0.8584 - val_loss: 0.3673 - val_accuracy: 0.8790\n",
      "Epoch 4/20\n",
      "6227/6227 [==============================] - 161s 26ms/step - loss: 0.3988 - accuracy: 0.8548 - val_loss: 0.3717 - val_accuracy: 0.8748\n",
      "Epoch 5/20\n",
      "6227/6227 [==============================] - 163s 26ms/step - loss: 0.3598 - accuracy: 0.8804 - val_loss: 0.3565 - val_accuracy: 0.8829\n",
      "Epoch 6/20\n",
      "6227/6227 [==============================] - 162s 26ms/step - loss: 0.3555 - accuracy: 0.8831 - val_loss: 0.3537 - val_accuracy: 0.8850\n",
      "Epoch 7/20\n",
      "6227/6227 [==============================] - 162s 26ms/step - loss: 0.3531 - accuracy: 0.8853 - val_loss: 0.3548 - val_accuracy: 0.8859\n",
      "Epoch 8/20\n",
      "6227/6227 [==============================] - 161s 26ms/step - loss: 0.3557 - accuracy: 0.8765 - val_loss: 0.1907 - val_accuracy: 0.9362\n",
      "Epoch 9/20\n",
      "6227/6227 [==============================] - 163s 26ms/step - loss: 0.1131 - accuracy: 0.9598 - val_loss: 0.0805 - val_accuracy: 0.9709\n",
      "Epoch 10/20\n",
      "6227/6227 [==============================] - 161s 26ms/step - loss: 0.0304 - accuracy: 0.9906 - val_loss: 0.1435 - val_accuracy: 0.9462\n",
      "Epoch 11/20\n",
      "6227/6227 [==============================] - 163s 26ms/step - loss: 0.0216 - accuracy: 0.9911 - val_loss: 0.1397 - val_accuracy: 0.9406\n",
      "Epoch 12/20\n",
      "6227/6227 [==============================] - 163s 26ms/step - loss: 0.0167 - accuracy: 0.9935 - val_loss: 0.1206 - val_accuracy: 0.9661\n",
      "Epoch 13/20\n",
      "6227/6227 [==============================] - 161s 26ms/step - loss: 0.0057 - accuracy: 0.9984 - val_loss: 0.1329 - val_accuracy: 0.9549\n",
      "Epoch 14/20\n",
      "6227/6227 [==============================] - 161s 26ms/step - loss: 0.0027 - accuracy: 0.9993 - val_loss: 0.1275 - val_accuracy: 0.9581\n",
      "Epoch 15/20\n",
      "6227/6227 [==============================] - 161s 26ms/step - loss: 0.0020 - accuracy: 0.9994 - val_loss: 0.1298 - val_accuracy: 0.9562\n",
      "Epoch 16/20\n",
      "6227/6227 [==============================] - 162s 26ms/step - loss: 0.0015 - accuracy: 0.9995 - val_loss: 0.1184 - val_accuracy: 0.9641\n",
      "Epoch 17/20\n",
      "6227/6227 [==============================] - 163s 26ms/step - loss: 0.0013 - accuracy: 0.9996 - val_loss: 0.2162 - val_accuracy: 0.9270\n",
      "Epoch 18/20\n",
      "6227/6227 [==============================] - 162s 26ms/step - loss: 0.0012 - accuracy: 0.9996 - val_loss: 0.1294 - val_accuracy: 0.9585\n",
      "Epoch 19/20\n",
      "6227/6227 [==============================] - 161s 26ms/step - loss: 0.0012 - accuracy: 0.9996 - val_loss: 0.1299 - val_accuracy: 0.9651\n",
      "Epoch 20/20\n",
      "6227/6227 [==============================] - 163s 26ms/step - loss: 8.2305e-04 - accuracy: 0.9997 - val_loss: 0.1362 - val_accuracy: 0.9616\n"
     ]
    }
   ],
   "source": [
    "history=lstm_model.fit(X_lstm_train, y_lstm_train, epochs=20, batch_size=64, validation_split=0.3)"
   ]
  },
  {
   "cell_type": "markdown",
   "id": "1bf025c2",
   "metadata": {},
   "source": [
    "lstm_model.save('./LSTM_Model_V2/lstmv2_model.h5')\n",
    "lstm_model.save_weights('./LSTM_Model_V2/lstmv2_modelWeights')\n",
    "lstm_model.save_weights('./LSTM_Model_V2/lstmv2_modelWeights.h5')"
   ]
  },
  {
   "cell_type": "markdown",
   "id": "84c5e93f",
   "metadata": {},
   "source": [
    "## Evaluate Model"
   ]
  },
  {
   "cell_type": "code",
   "execution_count": 42,
   "id": "49289c03",
   "metadata": {},
   "outputs": [
    {
     "name": "stdout",
     "output_type": "stream",
     "text": [
      "1977/1977 [==============================] - 10s 5ms/step\n"
     ]
    },
    {
     "data": {
      "text/plain": [
       "<Axes: >"
      ]
     },
     "execution_count": 42,
     "metadata": {},
     "output_type": "execute_result"
    },
    {
     "data": {
      "image/png": "[encoded data removed]",
      "text/plain": [
       "<Figure size 640x480 with 2 Axes>"
      ]
     },
     "metadata": {},
     "output_type": "display_data"
    }
   ],
   "source": [
    "# Predict the values\n",
    "y_lstm_predict = lstm_model.predict(X_lstm_test).round()\n",
    "\n",
    "# Create a confusion matrix based on a predicted column\n",
    "result = confusion_matrix(y_lstm_test, y_lstm_predict, normalize='pred')\n",
    "\n",
    "# Plot Confusion Matrix\n",
    "sns.heatmap(result, annot=True, xticklabels=['Benign', 'Malicious'], yticklabels=['Benign', 'Malicious'])\n",
    "# sns.heatmap()"
   ]
  },
  {
   "cell_type": "code",
   "execution_count": 40,
   "id": "383efb7b",
   "metadata": {},
   "outputs": [
    {
     "name": "stdout",
     "output_type": "stream",
     "text": [
      "[[0.]\n",
      " [1.]\n",
      " [1.]]\n",
      "1977/1977 [==============================] - 13s 6ms/step - loss: 0.1388 - accuracy: 0.9618\n"
     ]
    }
   ],
   "source": [
    "\n",
    "scores = lstm_model.evaluate(X_lstm_test, y_lstm_test)"
   ]
  },
  {
   "cell_type": "code",
   "execution_count": 36,
   "id": "fcc9fa8f",
   "metadata": {},
   "outputs": [
    {
     "name": "stdout",
     "output_type": "stream",
     "text": [
      "{'verbose': 1, 'epochs': 20, 'steps': 6227}\n",
      "dict_keys(['loss', 'accuracy', 'val_loss', 'val_accuracy'])\n"
     ]
    }
   ],
   "source": [
    "print(history.params)\n",
    "print(history.history.keys())\n",
    "\n",
    "accuracy = history.history['accuracy']\n",
    "val_accuracy = history.history['val_accuracy']\n",
    "\n",
    "loss =history.history['loss']\n",
    "val_loss = history.history['val_loss']"
   ]
  },
  {
   "cell_type": "code",
   "execution_count": 37,
   "id": "74a17afc",
   "metadata": {},
   "outputs": [
    {
     "data": {
      "text/plain": [
       "Text(0.5, 1.0, 'Training and Validation Loss')"
      ]
     },
     "execution_count": 37,
     "metadata": {},
     "output_type": "execute_result"
    },
    {
     "data": {
      "image/png": "[encoded data removed]",
      "text/plain": [
       "<Figure size 800x800 with 1 Axes>"
      ]
     },
     "metadata": {},
     "output_type": "display_data"
    },
    {
     "data": {
      "image/png": "[encoded data removed]",
      "text/plain": [
       "<Figure size 800x800 with 1 Axes>"
      ]
     },
     "metadata": {},
     "output_type": "display_data"
    }
   ],
   "source": [
    "EPOCHS = 20\n",
    "plt.figure(figsize=(8,8))\n",
    "plt.subplot(1,2,1)\n",
    "plt.plot(range(EPOCHS), accuracy, label='Training Accuracy')\n",
    "plt.plot(range(EPOCHS), val_accuracy, label='Validation Accuracy')\n",
    "plt.legend(loc='lower right')\n",
    "plt.title('Training and Validation Accuracy')\n",
    "\n",
    "plt.figure(figsize=(8,8))\n",
    "plt.subplot(1,2,1)\n",
    "plt.plot(range(EPOCHS), loss, label='Loss')\n",
    "plt.plot(range(EPOCHS), val_loss, label='Validation Loss')\n",
    "plt.legend(loc='upper right')\n",
    "plt.title('Training and Validation Loss')"
   ]
  },
  {
   "cell_type": "markdown",
   "id": "e5fcb29d",
   "metadata": {},
   "source": []
  }
 ],
 "metadata": {
  "kernelspec": {
   "display_name": "Python 3 (ipykernel)",
   "language": "python",
   "name": "python3"
  },
  "language_info": {
   "codemirror_mode": {
    "name": "ipython",
    "version": 3
   },
   "file_extension": ".py",
   "mimetype": "text/x-python",
   "name": "python",
   "nbconvert_exporter": "python",
   "pygments_lexer": "ipython3",
   "version": "3.9.19"
  }
 },
 "nbformat": 4,
 "nbformat_minor": 5
}
